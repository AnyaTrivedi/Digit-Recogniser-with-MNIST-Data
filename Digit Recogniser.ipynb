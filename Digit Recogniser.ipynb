{
 "cells": [
  {
   "cell_type": "code",
   "execution_count": 92,
   "metadata": {
    "_cell_guid": "b1076dfc-b9ad-4769-8c92-a6c4dae69d19",
    "_uuid": "8f2839f25d086af736a60e9eeb907d3b93b6e0e5"
   },
   "outputs": [],
   "source": [
    "import numpy as np\n",
    "import pandas as pd\n",
    "import matplotlib.pyplot as plt\n",
    "import seaborn as sns\n",
    "%matplotlib inline\n",
    "\n",
    "#making random numbers predictable\n",
    "np.random.seed(2)\n",
    "\n",
    "from sklearn.model_selection import train_test_split\n",
    "from sklearn.metrics import confusion_matrix\n",
    "\n",
    "from keras.models import Sequential, load_model\n",
    "from keras.layers import Dense, Dropout, Flatten, Conv2D, MaxPool2D\n",
    "from keras.optimizers import Adam, RMSprop\n",
    "from keras.preprocessing.image import ImageDataGenerator\n",
    "from keras.callbacks import ReduceLROnPlateau\n",
    "\n",
    "#one-hot encoding of y\n",
    "from keras.utils.np_utils import to_categorical\n",
    "\n",
    "#make it pretty\n",
    "sns.set(context = 'notebook', palette='cubehelix', style = 'dark')"
   ]
  },
  {
   "cell_type": "code",
   "execution_count": 93,
   "metadata": {
    "_cell_guid": "79c7e3d0-c299-4dcb-8224-4455121ee9b0",
    "_uuid": "d629ff2d2480ee46fbb7e2d37f6b5fab8052498a"
   },
   "outputs": [],
   "source": [
    "#get data\n",
    "\n",
    "train = pd.read_csv(\"../input/digit-recognizer/train.csv\")\n",
    "test = pd.read_csv(\"../input/digit-recognizer/train.csv\")\n",
    "\n"
   ]
  },
  {
   "cell_type": "markdown",
   "metadata": {},
   "source": [
    "# Exploring the Data"
   ]
  },
  {
   "cell_type": "code",
   "execution_count": 94,
   "metadata": {},
   "outputs": [
    {
     "data": {
      "text/plain": [
       "(42000, 784)"
      ]
     },
     "execution_count": 94,
     "metadata": {},
     "output_type": "execute_result"
    }
   ],
   "source": [
    "Y_train = train['label']\n",
    "X_train = train.drop(labels= ['label'], axis = 1)\n",
    "#Check if dropped\n",
    "X_train.shape"
   ]
  },
  {
   "cell_type": "code",
   "execution_count": 95,
   "metadata": {},
   "outputs": [
    {
     "data": {
      "text/plain": [
       "(42000, 785)"
      ]
     },
     "execution_count": 95,
     "metadata": {},
     "output_type": "execute_result"
    }
   ],
   "source": [
    "test.shape"
   ]
  },
  {
   "cell_type": "code",
   "execution_count": 96,
   "metadata": {},
   "outputs": [
    {
     "data": {
      "text/plain": [
       "(42000, 784)"
      ]
     },
     "execution_count": 96,
     "metadata": {},
     "output_type": "execute_result"
    }
   ],
   "source": [
    "Y_test = test['label']\n",
    "X_test = test.drop(labels= ['label'], axis = 1)\n",
    "#Test test\n",
    "X_test.shape"
   ]
  },
  {
   "cell_type": "code",
   "execution_count": 97,
   "metadata": {},
   "outputs": [
    {
     "data": {
      "image/png": "[encoded data removed]",
      "text/plain": [
       "<Figure size 576x288 with 1 Axes>"
      ]
     },
     "metadata": {},
     "output_type": "display_data"
    }
   ],
   "source": [
    "#See our training label distribution\n",
    "plt.figure(figsize = (8,4))\n",
    "sns.countplot(Y_train)\n",
    "plt.show()"
   ]
  },
  {
   "cell_type": "code",
   "execution_count": 98,
   "metadata": {},
   "outputs": [
    {
     "data": {
      "text/plain": [
       "1    4684\n",
       "7    4401\n",
       "3    4351\n",
       "9    4188\n",
       "2    4177\n",
       "6    4137\n",
       "0    4132\n",
       "4    4072\n",
       "8    4063\n",
       "5    3795\n",
       "Name: label, dtype: int64"
      ]
     },
     "execution_count": 98,
     "metadata": {},
     "output_type": "execute_result"
    }
   ],
   "source": [
    "Y_train.value_counts()"
   ]
  },
  {
   "cell_type": "code",
   "execution_count": 99,
   "metadata": {},
   "outputs": [
    {
     "data": {
      "text/plain": [
       "count       784\n",
       "unique        1\n",
       "top       False\n",
       "freq        784\n",
       "dtype: object"
      ]
     },
     "execution_count": 99,
     "metadata": {},
     "output_type": "execute_result"
    }
   ],
   "source": [
    "#check missing values\n",
    "X_train.isnull().any().describe()"
   ]
  },
  {
   "cell_type": "code",
   "execution_count": 100,
   "metadata": {},
   "outputs": [
    {
     "data": {
      "text/plain": [
       "count       784\n",
       "unique        1\n",
       "top       False\n",
       "freq        784\n",
       "dtype: object"
      ]
     },
     "execution_count": 100,
     "metadata": {},
     "output_type": "execute_result"
    }
   ],
   "source": [
    "X_test.isnull().any().describe()"
   ]
  },
  {
   "cell_type": "markdown",
   "metadata": {},
   "source": [
    "No missing values, yay"
   ]
  },
  {
   "cell_type": "markdown",
   "metadata": {},
   "source": [
    "# Preprocessing"
   ]
  },
  {
   "cell_type": "markdown",
   "metadata": {},
   "source": [
    "## Normalise"
   ]
  },
  {
   "cell_type": "code",
   "execution_count": 101,
   "metadata": {},
   "outputs": [],
   "source": [
    "#To reduce effect of illumination, we normalise to greyscale\n",
    "X_train = X_train / 255 \n",
    "X_test = X_test/255\n"
   ]
  },
  {
   "cell_type": "markdown",
   "metadata": {},
   "source": [
    "## Reshape data"
   ]
  },
  {
   "cell_type": "code",
   "execution_count": 102,
   "metadata": {},
   "outputs": [],
   "source": [
    "img_width = 28\n",
    "img_height = 28\n",
    "channels = 1"
   ]
  },
  {
   "cell_type": "code",
   "execution_count": 103,
   "metadata": {},
   "outputs": [],
   "source": [
    "#-1 in the shape makes it compatible with the original shape. \n",
    "#We want the new data to have shape (width, height, channels)\n",
    "\n",
    "X_train = X_train.values.reshape(-1,28,28,1)\n",
    "X_test = X_test.values.reshape(-1,28,28,1)\n"
   ]
  },
  {
   "cell_type": "code",
   "execution_count": 104,
   "metadata": {},
   "outputs": [
    {
     "data": {
      "text/plain": [
       "(42000, 28, 28, 1)"
      ]
     },
     "execution_count": 104,
     "metadata": {},
     "output_type": "execute_result"
    }
   ],
   "source": [
    "X_train.shape"
   ]
  },
  {
   "cell_type": "code",
   "execution_count": null,
   "metadata": {},
   "outputs": [],
   "source": []
  },
  {
   "cell_type": "markdown",
   "metadata": {},
   "source": [
    "## One Hot Encoding "
   ]
  },
  {
   "cell_type": "code",
   "execution_count": 105,
   "metadata": {},
   "outputs": [],
   "source": [
    "#endoding y as a one hot vector of 10\n",
    "\n",
    "Y_train = to_categorical(Y_train, num_classes = 10)"
   ]
  },
  {
   "cell_type": "markdown",
   "metadata": {},
   "source": [
    "## Split into Train and Validation"
   ]
  },
  {
   "cell_type": "code",
   "execution_count": 106,
   "metadata": {},
   "outputs": [
    {
     "name": "stdout",
     "output_type": "stream",
     "text": [
      "(37800, 28, 28, 1) (37800, 10) (4200, 28, 28, 1) (4200, 10)\n"
     ]
    }
   ],
   "source": [
    "#using a 90-10 ratio\n",
    "X_train, X_val, Y_train, Y_val = train_test_split(X_train, Y_train, test_size = 0.10, shuffle = True)\n",
    "\n",
    "#alt: use random seed instead of shuffle\n",
    "#random_seed = 2\n",
    "#X_train, X_val, Y_train, Y_val = train_test_split(X_train, Y_train, test_size = 0.1, random_state=random_seed)\n",
    "\n",
    "print(X_train.shape, Y_train.shape, X_val.shape, Y_val.shape)"
   ]
  },
  {
   "cell_type": "markdown",
   "metadata": {},
   "source": [
    "# Model Construction"
   ]
  },
  {
   "cell_type": "markdown",
   "metadata": {},
   "source": [
    " CNN Model: *Conv2D-ReLU -> Conv2D-ReLU -> MaxPool2D -> Dropout -> Conv2D-ReLU -> Conv2D-ReLU -> MaxPool2D -> Dropout -> Flatten -> Dense -> Dropout "
   ]
  },
  {
   "cell_type": "markdown",
   "metadata": {},
   "source": [
    "## Build"
   ]
  },
  {
   "cell_type": "code",
   "execution_count": 107,
   "metadata": {},
   "outputs": [],
   "source": [
    "#Build\n",
    "\n",
    "model = Sequential()\n",
    "\n",
    "model.add(Conv2D(filters = 32, kernel_size = (5,5),padding = 'Same', activation ='relu', input_shape = (img_width,img_height,channels)))\n",
    "model.add(Conv2D(filters = 32, kernel_size = (5,5),padding = 'Same', activation ='relu'))\n",
    "model.add(MaxPool2D(pool_size=(2,2)))\n",
    "model.add(Dropout(0.25))\n",
    "\n",
    "\n",
    "model.add(Conv2D(filters = 64, kernel_size = (3,3),padding = 'Same', activation ='relu'))\n",
    "model.add(Conv2D(filters = 64, kernel_size = (3,3),padding = 'Same', activation ='relu'))\n",
    "model.add(MaxPool2D(pool_size=(2,2), strides=(2,2)))\n",
    "model.add(Dropout(0.25))\n",
    "\n",
    "\n",
    "model.add(Flatten())\n",
    "model.add(Dense(256, activation = \"relu\"))\n",
    "model.add(Dropout(0.5))\n",
    "model.add(Dense(10, activation = \"softmax\"))"
   ]
  },
  {
   "cell_type": "markdown",
   "metadata": {},
   "source": [
    "## RMSProp Optimizer"
   ]
  },
  {
   "cell_type": "code",
   "execution_count": 108,
   "metadata": {},
   "outputs": [],
   "source": [
    "#Optimiser\n",
    "\n",
    "#using categorical crossentropy for categorical loss\n",
    "#using RMSProp with default values\n",
    "#Gradient Stochastic Descent is slower\n",
    "\n",
    "optimizer = RMSprop(lr=0.001, rho=0.9, epsilon=1e-08, decay=0.0)"
   ]
  },
  {
   "cell_type": "markdown",
   "metadata": {},
   "source": [
    "## Compile"
   ]
  },
  {
   "cell_type": "code",
   "execution_count": 109,
   "metadata": {},
   "outputs": [],
   "source": [
    "#Compile\n",
    "model.compile(optimizer = optimizer , loss = \"categorical_crossentropy\", metrics=[\"accuracy\"])"
   ]
  },
  {
   "cell_type": "markdown",
   "metadata": {},
   "source": [
    "IMPORTANT change epoch sizes while demos, it takes a while to run. Use GPU, CPU has a hilariously long run time"
   ]
  },
  {
   "cell_type": "code",
   "execution_count": 110,
   "metadata": {},
   "outputs": [],
   "source": [
    "epochs = 30\n",
    "batch_size = 64\n"
   ]
  },
  {
   "cell_type": "code",
   "execution_count": 111,
   "metadata": {},
   "outputs": [
    {
     "name": "stdout",
     "output_type": "stream",
     "text": [
      "Train on 37800 samples, validate on 4200 samples\n",
      "Epoch 1/30\n",
      " - 4s - loss: 0.2212 - accuracy: 0.9306 - val_loss: 0.0668 - val_accuracy: 0.9800\n",
      "Epoch 2/30\n",
      " - 4s - loss: 0.0678 - accuracy: 0.9795 - val_loss: 0.0660 - val_accuracy: 0.9850\n",
      "Epoch 3/30\n",
      " - 4s - loss: 0.0551 - accuracy: 0.9847 - val_loss: 0.0495 - val_accuracy: 0.9864\n",
      "Epoch 4/30\n",
      " - 4s - loss: 0.0460 - accuracy: 0.9867 - val_loss: 0.0457 - val_accuracy: 0.9874\n",
      "Epoch 5/30\n",
      " - 4s - loss: 0.0416 - accuracy: 0.9880 - val_loss: 0.0294 - val_accuracy: 0.9917\n",
      "Epoch 6/30\n",
      " - 4s - loss: 0.0379 - accuracy: 0.9890 - val_loss: 0.0271 - val_accuracy: 0.9924\n",
      "Epoch 7/30\n",
      " - 4s - loss: 0.0368 - accuracy: 0.9896 - val_loss: 0.0340 - val_accuracy: 0.9910\n",
      "Epoch 8/30\n",
      " - 4s - loss: 0.0333 - accuracy: 0.9904 - val_loss: 0.0273 - val_accuracy: 0.9914\n",
      "Epoch 9/30\n",
      " - 4s - loss: 0.0348 - accuracy: 0.9902 - val_loss: 0.0299 - val_accuracy: 0.9905\n",
      "Epoch 10/30\n",
      " - 4s - loss: 0.0328 - accuracy: 0.9902 - val_loss: 0.0753 - val_accuracy: 0.9860\n",
      "Epoch 11/30\n",
      " - 4s - loss: 0.0339 - accuracy: 0.9906 - val_loss: 0.0554 - val_accuracy: 0.9902\n",
      "Epoch 12/30\n",
      " - 4s - loss: 0.0349 - accuracy: 0.9911 - val_loss: 0.0348 - val_accuracy: 0.9924\n",
      "Epoch 13/30\n",
      " - 4s - loss: 0.0365 - accuracy: 0.9901 - val_loss: 0.0410 - val_accuracy: 0.9907\n",
      "Epoch 14/30\n",
      " - 4s - loss: 0.0360 - accuracy: 0.9897 - val_loss: 0.0286 - val_accuracy: 0.9929\n",
      "Epoch 15/30\n",
      " - 4s - loss: 0.0370 - accuracy: 0.9908 - val_loss: 0.0328 - val_accuracy: 0.9926\n",
      "Epoch 16/30\n",
      " - 4s - loss: 0.0371 - accuracy: 0.9902 - val_loss: 0.0392 - val_accuracy: 0.9900\n",
      "Epoch 17/30\n",
      " - 4s - loss: 0.0381 - accuracy: 0.9904 - val_loss: 0.0318 - val_accuracy: 0.9929\n",
      "Epoch 18/30\n",
      " - 4s - loss: 0.0381 - accuracy: 0.9902 - val_loss: 0.0260 - val_accuracy: 0.9929\n",
      "Epoch 19/30\n",
      " - 4s - loss: 0.0416 - accuracy: 0.9899 - val_loss: 0.0415 - val_accuracy: 0.9912\n",
      "Epoch 20/30\n",
      " - 4s - loss: 0.0416 - accuracy: 0.9899 - val_loss: 0.0309 - val_accuracy: 0.9919\n",
      "Epoch 21/30\n",
      " - 4s - loss: 0.0381 - accuracy: 0.9911 - val_loss: 0.0292 - val_accuracy: 0.9931\n",
      "Epoch 22/30\n",
      " - 4s - loss: 0.0405 - accuracy: 0.9898 - val_loss: 0.0373 - val_accuracy: 0.9919\n",
      "Epoch 23/30\n",
      " - 4s - loss: 0.0403 - accuracy: 0.9899 - val_loss: 0.0342 - val_accuracy: 0.9919\n",
      "Epoch 24/30\n",
      " - 4s - loss: 0.0469 - accuracy: 0.9889 - val_loss: 0.0390 - val_accuracy: 0.9907\n",
      "Epoch 25/30\n",
      " - 4s - loss: 0.0466 - accuracy: 0.9894 - val_loss: 0.0389 - val_accuracy: 0.9876\n",
      "Epoch 26/30\n",
      " - 4s - loss: 0.0464 - accuracy: 0.9896 - val_loss: 0.0614 - val_accuracy: 0.9912\n",
      "Epoch 27/30\n",
      " - 4s - loss: 0.0480 - accuracy: 0.9884 - val_loss: 0.0511 - val_accuracy: 0.9919\n",
      "Epoch 28/30\n",
      " - 4s - loss: 0.0531 - accuracy: 0.9878 - val_loss: 0.0487 - val_accuracy: 0.9902\n",
      "Epoch 29/30\n",
      " - 4s - loss: 0.0506 - accuracy: 0.9870 - val_loss: 0.0412 - val_accuracy: 0.9890\n",
      "Epoch 30/30\n",
      " - 4s - loss: 0.0495 - accuracy: 0.9883 - val_loss: 0.0377 - val_accuracy: 0.9907\n"
     ]
    }
   ],
   "source": [
    "#train to see accuracy\n",
    "\n",
    "history = model.fit(X_train, Y_train, batch_size = batch_size, epochs = epochs, validation_data = (X_val, Y_val), \n",
    "                    verbose = 2)"
   ]
  },
  {
   "cell_type": "markdown",
   "metadata": {},
   "source": [
    " Accuracy: 98.83"
   ]
  },
  {
   "cell_type": "markdown",
   "metadata": {},
   "source": [
    "## Annealer"
   ]
  },
  {
   "cell_type": "code",
   "execution_count": 112,
   "metadata": {},
   "outputs": [],
   "source": [
    "#Annealer\n",
    "#Reduce learning by half if accuracy not improved in 3 epochs\n",
    "#We use an annealer to decrease the learning rate so it converges to global minima and not local minima\n",
    "#verbose=1 to give update messages\n",
    "#min_lr: lower bound on learning rate\n",
    "\n",
    "annealer = ReduceLROnPlateau(monitor='val_accuracy', patience=3, verbose=1, factor=0.5, min_lr=0.00001)"
   ]
  },
  {
   "cell_type": "code",
   "execution_count": 113,
   "metadata": {},
   "outputs": [
    {
     "name": "stdout",
     "output_type": "stream",
     "text": [
      "Train on 37800 samples, validate on 4200 samples\n",
      "Epoch 1/30\n",
      " - 4s - loss: 0.0475 - accuracy: 0.9896 - val_loss: 0.0431 - val_accuracy: 0.9888\n",
      "Epoch 2/30\n",
      " - 4s - loss: 0.0508 - accuracy: 0.9887 - val_loss: 0.0597 - val_accuracy: 0.9857\n",
      "Epoch 3/30\n",
      " - 4s - loss: 0.0582 - accuracy: 0.9883 - val_loss: 0.0398 - val_accuracy: 0.9910\n",
      "Epoch 4/30\n",
      " - 4s - loss: 0.0541 - accuracy: 0.9879 - val_loss: 0.0420 - val_accuracy: 0.9893\n",
      "Epoch 5/30\n",
      " - 4s - loss: 0.0571 - accuracy: 0.9874 - val_loss: 0.0357 - val_accuracy: 0.9914\n",
      "Epoch 6/30\n",
      " - 4s - loss: 0.0586 - accuracy: 0.9867 - val_loss: 0.0429 - val_accuracy: 0.9895\n",
      "Epoch 7/30\n",
      " - 4s - loss: 0.0625 - accuracy: 0.9862 - val_loss: 0.0342 - val_accuracy: 0.9902\n",
      "Epoch 8/30\n",
      " - 4s - loss: 0.0693 - accuracy: 0.9856 - val_loss: 0.0492 - val_accuracy: 0.9879\n",
      "\n",
      "Epoch 00008: ReduceLROnPlateau reducing learning rate to 0.0005000000237487257.\n",
      "Epoch 9/30\n",
      " - 4s - loss: 0.0435 - accuracy: 0.9908 - val_loss: 0.0318 - val_accuracy: 0.9926\n",
      "Epoch 10/30\n",
      " - 4s - loss: 0.0343 - accuracy: 0.9920 - val_loss: 0.0369 - val_accuracy: 0.9912\n",
      "Epoch 11/30\n",
      " - 4s - loss: 0.0391 - accuracy: 0.9908 - val_loss: 0.0496 - val_accuracy: 0.9929\n",
      "Epoch 12/30\n",
      " - 4s - loss: 0.0372 - accuracy: 0.9917 - val_loss: 0.0405 - val_accuracy: 0.9907\n",
      "Epoch 13/30\n",
      " - 4s - loss: 0.0376 - accuracy: 0.9912 - val_loss: 0.0352 - val_accuracy: 0.9921\n",
      "Epoch 14/30\n",
      " - 4s - loss: 0.0396 - accuracy: 0.9919 - val_loss: 0.0342 - val_accuracy: 0.9914\n",
      "\n",
      "Epoch 00014: ReduceLROnPlateau reducing learning rate to 0.0002500000118743628.\n",
      "Epoch 15/30\n",
      " - 4s - loss: 0.0275 - accuracy: 0.9936 - val_loss: 0.0389 - val_accuracy: 0.9929\n",
      "Epoch 16/30\n",
      " - 4s - loss: 0.0257 - accuracy: 0.9943 - val_loss: 0.0341 - val_accuracy: 0.9929\n",
      "Epoch 17/30\n",
      " - 4s - loss: 0.0265 - accuracy: 0.9940 - val_loss: 0.0388 - val_accuracy: 0.9919\n",
      "\n",
      "Epoch 00017: ReduceLROnPlateau reducing learning rate to 0.0001250000059371814.\n",
      "Epoch 18/30\n",
      " - 4s - loss: 0.0209 - accuracy: 0.9948 - val_loss: 0.0338 - val_accuracy: 0.9936\n",
      "Epoch 19/30\n",
      " - 4s - loss: 0.0194 - accuracy: 0.9955 - val_loss: 0.0301 - val_accuracy: 0.9933\n",
      "Epoch 20/30\n",
      " - 4s - loss: 0.0197 - accuracy: 0.9949 - val_loss: 0.0283 - val_accuracy: 0.9933\n",
      "Epoch 21/30\n",
      " - 4s - loss: 0.0179 - accuracy: 0.9954 - val_loss: 0.0302 - val_accuracy: 0.9931\n",
      "\n",
      "Epoch 00021: ReduceLROnPlateau reducing learning rate to 6.25000029685907e-05.\n",
      "Epoch 22/30\n",
      " - 4s - loss: 0.0174 - accuracy: 0.9960 - val_loss: 0.0341 - val_accuracy: 0.9933\n",
      "Epoch 23/30\n",
      " - 4s - loss: 0.0145 - accuracy: 0.9964 - val_loss: 0.0346 - val_accuracy: 0.9931\n",
      "Epoch 24/30\n",
      " - 4s - loss: 0.0167 - accuracy: 0.9959 - val_loss: 0.0326 - val_accuracy: 0.9931\n",
      "\n",
      "Epoch 00024: ReduceLROnPlateau reducing learning rate to 3.125000148429535e-05.\n",
      "Epoch 25/30\n",
      " - 4s - loss: 0.0158 - accuracy: 0.9960 - val_loss: 0.0335 - val_accuracy: 0.9931\n",
      "Epoch 26/30\n",
      " - 4s - loss: 0.0129 - accuracy: 0.9964 - val_loss: 0.0344 - val_accuracy: 0.9926\n",
      "Epoch 27/30\n",
      " - 4s - loss: 0.0140 - accuracy: 0.9963 - val_loss: 0.0345 - val_accuracy: 0.9938\n",
      "Epoch 28/30\n",
      " - 4s - loss: 0.0156 - accuracy: 0.9956 - val_loss: 0.0305 - val_accuracy: 0.9938\n",
      "Epoch 29/30\n",
      " - 4s - loss: 0.0168 - accuracy: 0.9959 - val_loss: 0.0302 - val_accuracy: 0.9931\n",
      "Epoch 30/30\n",
      " - 4s - loss: 0.0141 - accuracy: 0.9961 - val_loss: 0.0367 - val_accuracy: 0.9929\n",
      "\n",
      "Epoch 00030: ReduceLROnPlateau reducing learning rate to 1.5625000742147677e-05.\n"
     ]
    }
   ],
   "source": [
    "#using annealer\n",
    "history = model.fit(X_train, Y_train, batch_size = batch_size, epochs = epochs, validation_data = (X_val, Y_val), \n",
    "                    verbose = 2, callbacks= [annealer])"
   ]
  },
  {
   "cell_type": "markdown",
   "metadata": {},
   "source": [
    "Accuracy: 99.61"
   ]
  },
  {
   "cell_type": "markdown",
   "metadata": {},
   "source": [
    "Annealer incresed the accuracy, try data augmentation to prevent overfitting"
   ]
  },
  {
   "cell_type": "markdown",
   "metadata": {},
   "source": [
    "## Augmentation"
   ]
  },
  {
   "cell_type": "code",
   "execution_count": 114,
   "metadata": {},
   "outputs": [],
   "source": [
    "#Augmenting the data by rondomly rotating images by 10 degrees\n",
    "\n",
    "imggen = ImageDataGenerator(\n",
    "        featurewise_center=False,\n",
    "        samplewise_center=False,\n",
    "        featurewise_std_normalization=False,\n",
    "        samplewise_std_normalization=False,\n",
    "        zca_whitening=False,\n",
    "        rotation_range=10,\n",
    "        zoom_range=0.1,\n",
    "        width_shift_range=0.1,\n",
    "        height_shift_range=0.1,\n",
    "        horizontal_flip=False,\n",
    "        vertical_flip=False) \n",
    "\n",
    "imggen.fit(X_train)"
   ]
  },
  {
   "cell_type": "code",
   "execution_count": 115,
   "metadata": {},
   "outputs": [
    {
     "name": "stdout",
     "output_type": "stream",
     "text": [
      "Epoch 1/30\n",
      " - 13s - loss: 0.3154 - accuracy: 0.9233 - val_loss: 0.0523 - val_accuracy: 0.9921\n",
      "Epoch 2/30\n",
      " - 14s - loss: 0.2717 - accuracy: 0.9340 - val_loss: 0.0531 - val_accuracy: 0.9919\n",
      "Epoch 3/30\n",
      " - 13s - loss: 0.2500 - accuracy: 0.9383 - val_loss: 0.0582 - val_accuracy: 0.9912\n",
      "Epoch 4/30\n",
      " - 13s - loss: 0.2404 - accuracy: 0.9399 - val_loss: 0.0594 - val_accuracy: 0.9910\n",
      "\n",
      "Epoch 00004: ReduceLROnPlateau reducing learning rate to 1e-05.\n",
      "Epoch 5/30\n",
      " - 13s - loss: 0.2291 - accuracy: 0.9418 - val_loss: 0.0598 - val_accuracy: 0.9902\n",
      "Epoch 6/30\n",
      " - 13s - loss: 0.2319 - accuracy: 0.9435 - val_loss: 0.0602 - val_accuracy: 0.9907\n",
      "Epoch 7/30\n",
      " - 14s - loss: 0.2191 - accuracy: 0.9428 - val_loss: 0.0610 - val_accuracy: 0.9898\n",
      "Epoch 8/30\n",
      " - 13s - loss: 0.2154 - accuracy: 0.9452 - val_loss: 0.0577 - val_accuracy: 0.9900\n",
      "Epoch 9/30\n",
      " - 13s - loss: 0.2145 - accuracy: 0.9450 - val_loss: 0.0568 - val_accuracy: 0.9910\n",
      "Epoch 10/30\n",
      " - 13s - loss: 0.2126 - accuracy: 0.9445 - val_loss: 0.0532 - val_accuracy: 0.9912\n",
      "Epoch 11/30\n",
      " - 14s - loss: 0.2039 - accuracy: 0.9471 - val_loss: 0.0571 - val_accuracy: 0.9910\n",
      "Epoch 12/30\n",
      " - 14s - loss: 0.2093 - accuracy: 0.9467 - val_loss: 0.0537 - val_accuracy: 0.9910\n",
      "Epoch 13/30\n",
      " - 14s - loss: 0.2086 - accuracy: 0.9469 - val_loss: 0.0537 - val_accuracy: 0.9910\n",
      "Epoch 14/30\n",
      " - 13s - loss: 0.2016 - accuracy: 0.9476 - val_loss: 0.0537 - val_accuracy: 0.9902\n",
      "Epoch 15/30\n",
      " - 13s - loss: 0.2000 - accuracy: 0.9483 - val_loss: 0.0525 - val_accuracy: 0.9912\n",
      "Epoch 16/30\n",
      " - 14s - loss: 0.1854 - accuracy: 0.9516 - val_loss: 0.0545 - val_accuracy: 0.9905\n",
      "Epoch 17/30\n",
      " - 13s - loss: 0.1953 - accuracy: 0.9497 - val_loss: 0.0550 - val_accuracy: 0.9907\n",
      "Epoch 18/30\n",
      " - 13s - loss: 0.1875 - accuracy: 0.9529 - val_loss: 0.0564 - val_accuracy: 0.9905\n",
      "Epoch 19/30\n",
      " - 13s - loss: 0.1895 - accuracy: 0.9512 - val_loss: 0.0560 - val_accuracy: 0.9914\n",
      "Epoch 20/30\n",
      " - 14s - loss: 0.1886 - accuracy: 0.9520 - val_loss: 0.0577 - val_accuracy: 0.9910\n",
      "Epoch 21/30\n",
      " - 13s - loss: 0.1877 - accuracy: 0.9516 - val_loss: 0.0613 - val_accuracy: 0.9905\n",
      "Epoch 22/30\n",
      " - 13s - loss: 0.1747 - accuracy: 0.9540 - val_loss: 0.0595 - val_accuracy: 0.9907\n",
      "Epoch 23/30\n",
      " - 13s - loss: 0.1866 - accuracy: 0.9530 - val_loss: 0.0560 - val_accuracy: 0.9910\n",
      "Epoch 24/30\n",
      " - 13s - loss: 0.1830 - accuracy: 0.9541 - val_loss: 0.0551 - val_accuracy: 0.9905\n",
      "Epoch 25/30\n",
      " - 14s - loss: 0.1786 - accuracy: 0.9544 - val_loss: 0.0628 - val_accuracy: 0.9907\n",
      "Epoch 26/30\n",
      " - 13s - loss: 0.1707 - accuracy: 0.9548 - val_loss: 0.0619 - val_accuracy: 0.9905\n",
      "Epoch 27/30\n",
      " - 14s - loss: 0.1724 - accuracy: 0.9537 - val_loss: 0.0617 - val_accuracy: 0.9900\n",
      "Epoch 28/30\n",
      " - 13s - loss: 0.1734 - accuracy: 0.9548 - val_loss: 0.0624 - val_accuracy: 0.9895\n",
      "Epoch 29/30\n",
      " - 14s - loss: 0.1696 - accuracy: 0.9551 - val_loss: 0.0649 - val_accuracy: 0.9893\n",
      "Epoch 30/30\n",
      " - 14s - loss: 0.1706 - accuracy: 0.9555 - val_loss: 0.0611 - val_accuracy: 0.9898\n"
     ]
    }
   ],
   "source": [
    "#fit model to check accuracy with the augmented\n",
    "\n",
    "history = model.fit_generator(imggen.flow(X_train,Y_train, batch_size=batch_size),\n",
    "                              epochs = epochs, validation_data = (X_val,Y_val),\n",
    "                              verbose = 2, steps_per_epoch=X_train.shape[0] // batch_size,\n",
    "                              callbacks=[annealer])\n",
    "\n"
   ]
  },
  {
   "cell_type": "markdown",
   "metadata": {},
   "source": [
    "Accuracy: 95.55"
   ]
  },
  {
   "cell_type": "markdown",
   "metadata": {},
   "source": [
    "# Model Evaluation"
   ]
  },
  {
   "cell_type": "markdown",
   "metadata": {},
   "source": [
    "## Accuracy"
   ]
  },
  {
   "cell_type": "code",
   "execution_count": 121,
   "metadata": {},
   "outputs": [
    {
     "data": {
      "image/png": "[encoded data removed]",
      "text/plain": [
       "<Figure size 432x288 with 1 Axes>"
      ]
     },
     "metadata": {},
     "output_type": "display_data"
    }
   ],
   "source": [
    "#Accuracy\n",
    "\n",
    "plt.plot(history.history['accuracy'], color='navy', label=\"Training Accuracy\")\n",
    "plt.plot(history.history['val_accuracy'], color='purple', label=\"Validation Accuracy\")\n",
    "plt.title('Model Accuracy')\n",
    "plt.ylabel('Accuracy')\n",
    "plt.xlabel('Epoch')\n",
    "plt.legend(loc='best')\n",
    "plt.show()"
   ]
  },
  {
   "cell_type": "markdown",
   "metadata": {},
   "source": [
    "## Loss"
   ]
  },
  {
   "cell_type": "code",
   "execution_count": 122,
   "metadata": {},
   "outputs": [
    {
     "data": {
      "image/png": "[encoded data removed]",
      "text/plain": [
       "<Figure size 432x288 with 1 Axes>"
      ]
     },
     "metadata": {},
     "output_type": "display_data"
    }
   ],
   "source": [
    "#Loss\n",
    "\n",
    "plt.plot(history.history['loss'], color='navy', label=\"Training Loss\")\n",
    "plt.plot(history.history['val_loss'], color='purple', label=\"Validation Loss\")\n",
    "plt.title('Model Loss')\n",
    "plt.ylabel('Loss')\n",
    "plt.xlabel('Epoch')\n",
    "plt.legend(loc='best')\n",
    "plt.show()"
   ]
  },
  {
   "cell_type": "markdown",
   "metadata": {},
   "source": [
    "## Confusion matrix"
   ]
  },
  {
   "cell_type": "code",
   "execution_count": 123,
   "metadata": {},
   "outputs": [
    {
     "name": "stdout",
     "output_type": "stream",
     "text": [
      "[[409   0   1   1   0   0   0   0   0   0]\n",
      " [  1 479   0   1   1   0   0   2   1   0]\n",
      " [  1   0 400   1   0   0   0   0   1   0]\n",
      " [  0   0   0 413   0   1   0   0   4   0]\n",
      " [  0   0   0   0 453   0   1   0   1   6]\n",
      " [  0   0   0   1   0 365   3   0   2   1]\n",
      " [  0   1   0   0   0   0 411   0   1   0]\n",
      " [  0   0   2   0   0   0   0 443   0   1]\n",
      " [  0   0   1   0   1   0   0   0 379   1]\n",
      " [  0   0   0   1   2   0   0   0   1 405]]\n"
     ]
    }
   ],
   "source": [
    "#Confusion Matrix\n",
    "\n",
    "Y_pred = model.predict(X_val)\n",
    "# Convert predictions classes to one hot vectors \n",
    "Y_pred_classes = np.argmax(Y_pred,axis = 1) \n",
    "# Convert validation observations to one hot vectors\n",
    "Y_true = np.argmax(Y_val,axis = 1) \n",
    "cm = confusion_matrix(Y_true, Y_pred_classes)\n",
    "\n",
    "print(cm)"
   ]
  },
  {
   "cell_type": "markdown",
   "metadata": {},
   "source": [
    "# Predicting Results"
   ]
  },
  {
   "cell_type": "code",
   "execution_count": 124,
   "metadata": {},
   "outputs": [],
   "source": [
    "results = model.predict(X_test)\n",
    "\n",
    "# select the indix with the maximum probability\n",
    "results = np.argmax(results,axis = 1)\n",
    "\n",
    "results = pd.Series(results,name=\"Label\")"
   ]
  },
  {
   "cell_type": "markdown",
   "metadata": {},
   "source": [
    "# Submission"
   ]
  },
  {
   "cell_type": "code",
   "execution_count": 125,
   "metadata": {},
   "outputs": [],
   "source": [
    "submission = pd.concat([pd.Series(range(1,28001),name = \"ImageId\"),results],axis = 1)\n",
    "\n",
    "submission.to_csv(\"DRSubmission.csv\",index=False)\n"
   ]
  }
 ],
 "metadata": {
  "kernelspec": {
   "display_name": "Python 3",
   "language": "python",
   "name": "python3"
  },
  "language_info": {
   "codemirror_mode": {
    "name": "ipython",
    "version": 3
   },
   "file_extension": ".py",
   "mimetype": "text/x-python",
   "name": "python",
   "nbconvert_exporter": "python",
   "pygments_lexer": "ipython3",
   "version": "3.8.2"
  }
 },
 "nbformat": 4,
 "nbformat_minor": 4
}
